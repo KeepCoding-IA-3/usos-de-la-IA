{
  "nbformat": 4,
  "nbformat_minor": 0,
  "metadata": {
    "colab": {
      "provenance": [],
      "toc_visible": true
    },
    "kernelspec": {
      "name": "python3",
      "display_name": "Python 3"
    },
    "language_info": {
      "name": "python"
    }
  },
  "cells": [
    {
      "cell_type": "markdown",
      "source": [
        "# IA3 Prompting"
      ],
      "metadata": {
        "id": "WXQiOIavEOFq"
      }
    },
    {
      "cell_type": "code",
      "source": [
        "!pip install openai -q"
      ],
      "metadata": {
        "id": "X3avxKYmIH0a"
      },
      "execution_count": null,
      "outputs": []
    },
    {
      "cell_type": "code",
      "source": [
        "from  openai import OpenAI\n",
        "\n",
        "client = OpenAI(api_key=\"sk-****\")"
      ],
      "metadata": {
        "id": "2d0u1LR2H_R7"
      },
      "execution_count": null,
      "outputs": []
    },
    {
      "cell_type": "markdown",
      "source": [
        "# zero-shot"
      ],
      "metadata": {
        "id": "bqwDlw1YEVQF"
      }
    },
    {
      "cell_type": "code",
      "execution_count": null,
      "metadata": {
        "id": "HfKb4HUgEIu2",
        "colab": {
          "base_uri": "https://localhost:8080/"
        },
        "outputId": "55c1bf38-baad-4b40-955b-ffaaf9caf591"
      },
      "outputs": [
        {
          "output_type": "stream",
          "name": "stdout",
          "text": [
            "¡Los alumnos de KeepCoding son increíblemente talentosos y dedicados! En cuanto a la guapura, cada uno tiene su encanto único, y lo que realmente los hace destacar es su pasión por el aprendizaje y la tecnología. ¡Eso sí que es atractivo!\n"
          ]
        }
      ],
      "source": [
        "response = client.responses.create(\n",
        "    model=\"gpt-4o\",\n",
        "    input=\"Como de guapos son los alumnos de keepcoding?\"\n",
        "\n",
        ")\n",
        "print(response.output_text)"
      ]
    },
    {
      "cell_type": "markdown",
      "source": [
        "#Few-shot\n"
      ],
      "metadata": {
        "id": "YRBh1W1LEatX"
      }
    },
    {
      "cell_type": "code",
      "source": [
        "response = client.responses.create(\n",
        "    model=\"gpt-4o\",\n",
        "    input=(\n",
        "        \"Clasifica el sentimiento de cada texto como positivo, negativo o neutral.\\n\\n\"\n",
        "            \"Ejemplo 1:\\n\"\n",
        "            \"Texto: \\\"Me encantó la película, fue maravillosa.\\\"\\n\"\n",
        "            \"Sentimiento: Positivo\\n\\n\"\n",
        "            \"Ejemplo 2:\\n\"\n",
        "            \"Texto: \\\"No estuvo mal, aunque pudo ser mejor.\\\"\\n\"\n",
        "            \"Sentimiento: Neutral\\n\\n\"\n",
        "            \"Ejemplo 3:\\n\"\n",
        "            \"Texto: \\\"Qué desastre de película, no la recomiendo.\\\"\\n\"\n",
        "            \"Sentimiento: Negativo\\n\\n\"\n",
        "            \"Ahora clasifica:\\n\"\n",
        "            \"Texto: \\\"La película fue una pérdida de tiempo total. Me dormí a la mitad.\\\"\\n\"\n",
        "            \"Sentimiento:\"\n",
        "    )\n",
        "\n",
        ")\n",
        "print(response.output_text)"
      ],
      "metadata": {
        "id": "chw98LTBE-Ur",
        "colab": {
          "base_uri": "https://localhost:8080/"
        },
        "outputId": "36e3e5fa-0382-4a84-fd80-c9fc484aebaf"
      },
      "execution_count": null,
      "outputs": [
        {
          "output_type": "stream",
          "name": "stdout",
          "text": [
            "Negativo\n"
          ]
        }
      ]
    },
    {
      "cell_type": "markdown",
      "source": [
        "# CoT (Chain of Thought)"
      ],
      "metadata": {
        "id": "GRwy1Yz3E-vj"
      }
    },
    {
      "cell_type": "code",
      "source": [
        "response = client.responses.create(\n",
        "    model=\"gpt-4o\",\n",
        "    input=(\n",
        "        \"Clasifica el sentimiento de este texto como positivo, negativo o neutral. \"\n",
        "            \"Razona paso a paso antes de dar la respuesta final:\\n\\n\"\n",
        "            \"como en este ejemplo: \"\n",
        "            \"Frase: La pelicula de Harry Potter es maravillosamente divertida\"\n",
        "            \"Humano: no detecto ni una sola fata ni insulto por lo que no es negativa. Tampoco decto terminos como esta bien pasable po lo que no es neutral, hay parablas que expresan que ha gustado la pelicula po lo que podria ser positiva. Consulion no hay repuesta engativa ni neutra peor si postiva por tanto espositva \"\n",
        "            \"hazlo conesta frase:\"\n",
        "            \"\\\"La película fue una pérdida de tiempo total. Me dormí a la mitad.\\\"\"\n",
        "    )\n",
        "\n",
        ")\n",
        "print(response.output_text)"
      ],
      "metadata": {
        "id": "ygHuXz9HFFQr",
        "colab": {
          "base_uri": "https://localhost:8080/"
        },
        "outputId": "f3465027-affe-492e-e4c0-2d6c9d7dc9d6"
      },
      "execution_count": null,
      "outputs": [
        {
          "output_type": "stream",
          "name": "stdout",
          "text": [
            "Para analizar la frase \"La película fue una pérdida de tiempo total. Me dormí a la mitad.\", procederé paso a paso:\n",
            "\n",
            "1. **Identificación de palabras clave**:\n",
            "   - \"pérdida de tiempo total\": Esta expresión sugiere una percepción negativa, indicando que el tiempo invertido en ver la película no fue provechoso.\n",
            "   - \"Me dormí a la mitad\": Implica falta de interés o aburrimiento extremo, lo que refuerza la impresión negativa de la experiencia.\n",
            "\n",
            "2. **Detección de emociones**:\n",
            "   - No hay palabras que sugieran disfrute, satisfacción o cualquier emoción positiva.\n",
            "   - Las expresiones usadas revelan decepción, desinterés y aburrimiento.\n",
            "\n",
            "3. **Descartar neutralidad**:\n",
            "   - La frase no es neutral porque presenta claramente una opinión desfavorable. No hay términos objetivos o descripciones neutrales que podrían sugerir imparcialidad.\n",
            "\n",
            "4. **Descartar positividad**:\n",
            "   - No hay ni una sola palabra o expresión que denote agrado, satisfacción o cumplidos hacia la película.\n",
            "\n",
            "5. **Conclusión**:\n",
            "   - La frase no es objetiva (neutral) ni positiva. Todos los elementos reflejan insatisfacción y negatividad.\n",
            "\n",
            "En resumen, el sentimiento de la frase es claramente **negativo**.\n"
          ]
        }
      ]
    },
    {
      "cell_type": "markdown",
      "source": [
        "# Auto-consistencia"
      ],
      "metadata": {
        "id": "40sF_QhLFjA4"
      }
    },
    {
      "cell_type": "code",
      "source": [
        "response = client.responses.create(\n",
        "    model=\"gpt-4o\",\n",
        "    input=(\n",
        "        \"Clasifica el sentimiento de este texto como positivo, negativo o neutral. \"\n",
        "            \"Razona paso a paso antes de dar la respuesta final que solo con solo el sentimiento ( positivo, negativo o neutral): \\n\\n\"\n",
        "            \"Frase: La pelicula de Harry Potter es maravillosamente divertida\"\n",
        "            \"Respondes de forma directa, clara y precisa, basándote únicamente en la información proporcionada.\"\n",
        "            \"Solo responde con el sentimiento\"\n",
        "    )\n",
        "\n",
        ")\n",
        "\n",
        "result = response.output_text\n",
        "if result == \"positivo\":\n",
        "  print(\"le ha encantado\")\n",
        "elif result == \"negativo\":\n",
        "  print(\"la odia\")\n",
        "\n",
        "elif result == \"neutral\":\n",
        "  print(\"esta bien\")\n",
        "else:\n",
        "  print(result)\n",
        "\n",
        "\n"
      ],
      "metadata": {
        "id": "q6nWDZGcFrnm",
        "colab": {
          "base_uri": "https://localhost:8080/"
        },
        "outputId": "2a8f5ab0-73da-47cb-8580-8c6faebdf97f"
      },
      "execution_count": null,
      "outputs": [
        {
          "output_type": "stream",
          "name": "stdout",
          "text": [
            "Positivo\n"
          ]
        }
      ]
    },
    {
      "cell_type": "markdown",
      "source": [
        "# ToT"
      ],
      "metadata": {
        "id": "Fjg2zxTEHhOe"
      }
    },
    {
      "cell_type": "code",
      "source": [
        "\n",
        "messages=[\n",
        "    {\"role\":\"system\", \"content\":\"tu tarea es responder a porque una devolución es rechadazada\"},\n",
        "    {\"role\":\"user\",\"content\":\"Solicto una devolución porque el producto no me ha gustado\"},\n",
        "    {\"role\":\"system\", \"content\":(\n",
        "        \"justifica en base a la soicutud del usuario porque su devolución es rechada.\"\n",
        "        \"para ello:\"\n",
        "        \"-identifica informacion clave en el mensaje del usaurio\"\n",
        "        \"-elavora la respuesta de forma profesonal y respetuosa peor no redactes un email\") }]\n",
        "\n",
        "response = client.chat.completions.create(\n",
        "    model=\"gpt-4o\",\n",
        "    messages=messages,\n",
        "    temperature=1,\n",
        ")\n",
        "print(response.choices[0].message.content)"
      ],
      "metadata": {
        "id": "EUD1mheuHlyL",
        "colab": {
          "base_uri": "https://localhost:8080/"
        },
        "outputId": "ba84ac5d-dcdc-4ac0-cad3-692ae4f153d0"
      },
      "execution_count": null,
      "outputs": [
        {
          "output_type": "stream",
          "name": "stdout",
          "text": [
            "La devolución puede ser rechazada debido a que la razón proporcionada por el usuario, \"el producto no me ha gustado\", podría no cumplir con la política de devoluciones de la empresa. Muchas empresas especifican que las devoluciones deben basarse en razones objetivas, como defectos del producto o errores en el envío, en lugar de motivos subjetivos como preferencias personales. Es importante para el cliente revisar los términos y condiciones de la política de devoluciones para entender qué razones son válidas para solicitar una devolución y garantizar que sus expectativas se alineen con las políticas de la empresa.\n"
          ]
        }
      ]
    },
    {
      "cell_type": "markdown",
      "source": [
        "# RolePlay"
      ],
      "metadata": {
        "id": "icZ8IyuQH2nh"
      }
    },
    {
      "cell_type": "code",
      "source": [
        "messages=[\n",
        "    {\"role\":\"system\", \"content\":(\"Eres un experto escritor de canciones de deathmetal, que tiene 5 gramis y 25 años de experiencia y que entiede que tiene que respestar al maxiomo la estructra de una ccion de deathmetal sin fallas tu misión es construir la letra de la cación sobre el tema que te indique el usario indica parates tipo coro o pre-coro entre [] ejemplo:[coro]\"\n",
        "        )},\n",
        "    {\"role\":\"user\",\"content\":\"La segunda guerra mundial\"}]\n",
        "\n",
        "response = client.chat.completions.create(\n",
        "    model=\"gpt-4o\",\n",
        "    messages=messages,\n",
        "    temperature=1,\n",
        ")\n",
        "print(response.choices[0].message.content)"
      ],
      "metadata": {
        "id": "-zVjfMKMH2Ht",
        "colab": {
          "base_uri": "https://localhost:8080/"
        },
        "outputId": "80a34992-6935-4bfc-b6f1-18b13ff5408c"
      },
      "execution_count": null,
      "outputs": [
        {
          "output_type": "stream",
          "name": "stdout",
          "text": [
            "[Verso 1]  \n",
            "Caos y sombras en el horizonte,  \n",
            "Naciones en guerra, sangre se desborda,  \n",
            "Tambores de odio retumban en la tierra,  \n",
            "El mundo atrapado en la tormenta eterna.\n",
            "\n",
            "[Pre-coro]  \n",
            "Humo y cenizas cubren la gloria,  \n",
            "Un pacto roto en cada memoria.\n",
            "\n",
            "[Coro]  \n",
            "Ríos de fuego, voces en el viento,  \n",
            "La humanidad perdida en su tormento,  \n",
            "La muerte danza sobre el campo,  \n",
            "El eco de la guerra, un macabro canto.\n",
            "\n",
            "[Verso 2]  \n",
            "Rugido de tanques, acero y razón,  \n",
            "La ofensiva del miedo quiebra toda nación,  \n",
            "Ruinas emergen donde hubo esperanza,  \n",
            "La oscuridad avanza, nunca se cansa.\n",
            "\n",
            "[Puente]  \n",
            "Bajo cielos grises, el dolor renace,  \n",
            "La furia de la historia que nunca deshace.\n",
            "\n",
            "[Coro]  \n",
            "Ríos de fuego, voces en el viento,  \n",
            "La humanidad perdida en su tormento,  \n",
            "La muerte danza sobre el campo,  \n",
            "El eco de la guerra, un macabro canto.\n",
            "\n",
            "[Verso 3]  \n",
            "Infantería de almas, ataúdes vacíos,  \n",
            "Se avecinan tormentas, sueños fríos,  \n",
            "El horror perpetuo, una herida visible,  \n",
            "Batallas sin final, horror indescriptible.\n",
            "\n",
            "[Pre-coro]  \n",
            "De las cenizas, el fénix no surge,  \n",
            "Sólo polvo y sombra, legado que urge.\n",
            "\n",
            "[Coro]  \n",
            "Ríos de fuego, voces en el viento,  \n",
            "La humanidad perdida en su tormento,  \n",
            "La muerte danza sobre el campo,  \n",
            "El eco de la guerra, un macabro canto.\n",
            "\n",
            "[Outro]  \n",
            "Un libro de desdichas, páginas de llanto,  \n",
            "Llamas eternas borran el encanto,  \n",
            "La segunda guerra, un oscuro manto,  \n",
            "Gritos del pasado que nunca quebranto.\n"
          ]
        }
      ]
    }
  ]
}