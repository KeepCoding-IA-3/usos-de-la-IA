{
  "nbformat": 4,
  "nbformat_minor": 0,
  "metadata": {
    "colab": {
      "provenance": []
    },
    "kernelspec": {
      "name": "python3",
      "display_name": "Python 3"
    },
    "language_info": {
      "name": "python"
    }
  },
  "cells": [
    {
      "cell_type": "markdown",
      "source": [
        "\n",
        "\n",
        "# Flujo con open ai\n",
        "\n"
      ],
      "metadata": {
        "id": "UwhW-eDdBI-O"
      }
    },
    {
      "cell_type": "code",
      "execution_count": null,
      "metadata": {
        "id": "niZdyEXjAagm"
      },
      "outputs": [],
      "source": []
    },
    {
      "cell_type": "markdown",
      "source": [
        "# langcahin"
      ],
      "metadata": {
        "id": "-bd_wOFLBRfe"
      }
    },
    {
      "cell_type": "code",
      "source": [],
      "metadata": {
        "id": "0l-rdSvxBREq"
      },
      "execution_count": null,
      "outputs": []
    },
    {
      "cell_type": "markdown",
      "source": [
        "# langchain template\n"
      ],
      "metadata": {
        "id": "haLLDN7mBUwp"
      }
    },
    {
      "cell_type": "code",
      "source": [],
      "metadata": {
        "id": "Vh-E90NlBd_n"
      },
      "execution_count": null,
      "outputs": []
    },
    {
      "cell_type": "markdown",
      "source": [
        "#langcahin ouput parser"
      ],
      "metadata": {
        "id": "jmsEUgjFBeL6"
      }
    },
    {
      "cell_type": "code",
      "source": [],
      "metadata": {
        "id": "G3vignrSBh-V"
      },
      "execution_count": null,
      "outputs": []
    },
    {
      "cell_type": "markdown",
      "source": [],
      "metadata": {
        "id": "4gaHBppfBiW7"
      }
    },
    {
      "cell_type": "markdown",
      "source": [
        "langchain tools"
      ],
      "metadata": {
        "id": "C_nBGQu5CN4f"
      }
    },
    {
      "cell_type": "code",
      "source": [],
      "metadata": {
        "id": "wyLhi7hXCP4F"
      },
      "execution_count": null,
      "outputs": []
    },
    {
      "cell_type": "code",
      "source": [],
      "metadata": {
        "id": "azkA930TCY4j"
      },
      "execution_count": null,
      "outputs": []
    },
    {
      "cell_type": "markdown",
      "source": [
        "#Hugging face"
      ],
      "metadata": {
        "id": "q-3yBeODCTbM"
      }
    },
    {
      "cell_type": "markdown",
      "source": [
        "## datasets"
      ],
      "metadata": {
        "id": "LipXzKQ1CWQl"
      }
    },
    {
      "cell_type": "code",
      "source": [],
      "metadata": {
        "id": "HNwP6vqSCTEs"
      },
      "execution_count": null,
      "outputs": []
    },
    {
      "cell_type": "markdown",
      "source": [
        "## pipeline"
      ],
      "metadata": {
        "id": "cOWlEIoyCfqo"
      }
    },
    {
      "cell_type": "code",
      "source": [],
      "metadata": {
        "id": "7LuGzslnCjMV"
      },
      "execution_count": null,
      "outputs": []
    },
    {
      "cell_type": "markdown",
      "source": [
        "## langchain + huggingface"
      ],
      "metadata": {
        "id": "NVSi2l0XFwfu"
      }
    },
    {
      "cell_type": "code",
      "source": [],
      "metadata": {
        "id": "sXil0WjGFwD_"
      },
      "execution_count": null,
      "outputs": []
    },
    {
      "cell_type": "markdown",
      "source": [],
      "metadata": {
        "id": "eODi6v2-CgsM"
      }
    }
  ]
}